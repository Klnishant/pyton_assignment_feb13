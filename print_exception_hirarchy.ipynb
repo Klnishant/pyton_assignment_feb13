{
 "cells": [
  {
   "cell_type": "code",
   "execution_count": 4,
   "id": "1a280a13-8bac-4856-a5e4-260ab1d747aa",
   "metadata": {},
   "outputs": [
    {
     "name": "stdout",
     "output_type": "stream",
     "text": [
      "Exception\n",
      "BaseException\n",
      "object\n"
     ]
    }
   ],
   "source": [
    "# define a function to print the exception hierarchy\n",
    "def print_exception_hierarchy(exception_class, indent=0):\n",
    "    # print the class name and base classes\n",
    "    print(\" \" * indent + exception_class.__name__)\n",
    "    for base_class in exception_class.__bases__:\n",
    "        print_exception_hierarchy(base_class, indent )\n",
    "\n",
    "# call the function with the base Exception class\n",
    "print_exception_hierarchy(Exception)\n"
   ]
  },
  {
   "cell_type": "code",
   "execution_count": null,
   "id": "43831bc9-0d11-4c72-b82a-86d3a077b360",
   "metadata": {},
   "outputs": [],
   "source": []
  }
 ],
 "metadata": {
  "kernelspec": {
   "display_name": "Python 3 (ipykernel)",
   "language": "python",
   "name": "python3"
  },
  "language_info": {
   "codemirror_mode": {
    "name": "ipython",
    "version": 3
   },
   "file_extension": ".py",
   "mimetype": "text/x-python",
   "name": "python",
   "nbconvert_exporter": "python",
   "pygments_lexer": "ipython3",
   "version": "3.10.8"
  }
 },
 "nbformat": 4,
 "nbformat_minor": 5
}
